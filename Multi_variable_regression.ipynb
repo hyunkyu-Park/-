{
  "nbformat": 4,
  "nbformat_minor": 0,
  "metadata": {
    "colab": {
      "name": "Multi-variable regression.ipynb",
      "provenance": [],
      "authorship_tag": "ABX9TyM2rOHn2ZC/lo6E6/1pqQ6I",
      "include_colab_link": true
    },
    "kernelspec": {
      "name": "python3",
      "display_name": "Python 3"
    },
    "language_info": {
      "name": "python"
    }
  },
  "cells": [
    {
      "cell_type": "markdown",
      "metadata": {
        "id": "view-in-github",
        "colab_type": "text"
      },
      "source": [
        "<a href=\"https://colab.research.google.com/github/hyunkyu-Park/Deep-Learning-For-All/blob/main/Multi_variable_regression.ipynb\" target=\"_parent\"><img src=\"https://colab.research.google.com/assets/colab-badge.svg\" alt=\"Open In Colab\"/></a>"
      ]
    },
    {
      "cell_type": "markdown",
      "metadata": {
        "id": "qStV1nh4uKRP"
      },
      "source": [
        "# 모두를 위한 딥러닝 시즌 1 Version\n",
        "\n"
      ]
    },
    {
      "cell_type": "code",
      "metadata": {
        "id": "8inbjSgLuVz6"
      },
      "source": [
        "# Lab 4 Multi-variable linear regression\n",
        "import tensorflow as tf\n",
        "import numpy as np\n",
        "\n",
        "x_data = [[73., 80., 75.],\n",
        "          [93., 88., 93.],\n",
        "          [89., 91., 90.],\n",
        "          [96., 98., 100.],\n",
        "          [73., 66., 70.]]\n",
        "y_data = [[152.],\n",
        "          [185.],\n",
        "          [180.],\n",
        "          [196.],\n",
        "          [142.]]\n",
        "\n",
        "tf.model = tf.keras.Sequential()\n",
        "\n",
        "tf.model.add(tf.keras.layers.Dense(units=1, input_dim=3))  # input_dim=3 gives multi-variable regression\n",
        "tf.model.add(tf.keras.layers.Activation('linear'))  # this line can be omitted, as linear activation is default\n",
        "# advanced reading https://towardsdatascience.com/activation-functions-neural-networks-1cbd9f8d91d6"
      ],
      "execution_count": 9,
      "outputs": []
    },
    {
      "cell_type": "code",
      "metadata": {
        "colab": {
          "base_uri": "https://localhost:8080/"
        },
        "id": "q6OaEOTwuguc",
        "outputId": "2c60b843-6dd4-42d1-e3c4-95dc084a8ce5"
      },
      "source": [
        "tf.model.compile(loss='mse', optimizer=tf.keras.optimizers.SGD(lr=1e-5))\n",
        "tf.model.summary()"
      ],
      "execution_count": 5,
      "outputs": [
        {
          "output_type": "stream",
          "text": [
            "Model: \"sequential_1\"\n",
            "_________________________________________________________________\n",
            "Layer (type)                 Output Shape              Param #   \n",
            "=================================================================\n",
            "dense_1 (Dense)              (None, 1)                 4         \n",
            "_________________________________________________________________\n",
            "activation_1 (Activation)    (None, 1)                 0         \n",
            "=================================================================\n",
            "Total params: 4\n",
            "Trainable params: 4\n",
            "Non-trainable params: 0\n",
            "_________________________________________________________________\n"
          ],
          "name": "stdout"
        }
      ]
    },
    {
      "cell_type": "code",
      "metadata": {
        "colab": {
          "base_uri": "https://localhost:8080/"
        },
        "id": "HqaEUYELug1I",
        "outputId": "14e190c5-bde7-403d-efa3-bf6f7fd5f772"
      },
      "source": [
        "history = tf.model.fit(x_data, y_data, epochs=100)"
      ],
      "execution_count": 6,
      "outputs": [
        {
          "output_type": "stream",
          "text": [
            "Epoch 1/100\n",
            "1/1 [==============================] - 0s 234ms/step - loss: 9.7831\n",
            "Epoch 2/100\n",
            "1/1 [==============================] - 0s 10ms/step - loss: 9.7780\n",
            "Epoch 3/100\n",
            "1/1 [==============================] - 0s 5ms/step - loss: 9.7728\n",
            "Epoch 4/100\n",
            "1/1 [==============================] - 0s 6ms/step - loss: 9.7676\n",
            "Epoch 5/100\n",
            "1/1 [==============================] - 0s 6ms/step - loss: 9.7624\n",
            "Epoch 6/100\n",
            "1/1 [==============================] - 0s 7ms/step - loss: 9.7572\n",
            "Epoch 7/100\n",
            "1/1 [==============================] - 0s 6ms/step - loss: 9.7520\n",
            "Epoch 8/100\n",
            "1/1 [==============================] - 0s 4ms/step - loss: 9.7468\n",
            "Epoch 9/100\n",
            "1/1 [==============================] - 0s 11ms/step - loss: 9.7417\n",
            "Epoch 10/100\n",
            "1/1 [==============================] - 0s 11ms/step - loss: 9.7365\n",
            "Epoch 11/100\n",
            "1/1 [==============================] - 0s 5ms/step - loss: 9.7313\n",
            "Epoch 12/100\n",
            "1/1 [==============================] - 0s 6ms/step - loss: 9.7261\n",
            "Epoch 13/100\n",
            "1/1 [==============================] - 0s 6ms/step - loss: 9.7210\n",
            "Epoch 14/100\n",
            "1/1 [==============================] - 0s 8ms/step - loss: 9.7158\n",
            "Epoch 15/100\n",
            "1/1 [==============================] - 0s 4ms/step - loss: 9.7107\n",
            "Epoch 16/100\n",
            "1/1 [==============================] - 0s 4ms/step - loss: 9.7055\n",
            "Epoch 17/100\n",
            "1/1 [==============================] - 0s 9ms/step - loss: 9.7003\n",
            "Epoch 18/100\n",
            "1/1 [==============================] - 0s 5ms/step - loss: 9.6952\n",
            "Epoch 19/100\n",
            "1/1 [==============================] - 0s 4ms/step - loss: 9.6900\n",
            "Epoch 20/100\n",
            "1/1 [==============================] - 0s 5ms/step - loss: 9.6849\n",
            "Epoch 21/100\n",
            "1/1 [==============================] - 0s 4ms/step - loss: 9.6797\n",
            "Epoch 22/100\n",
            "1/1 [==============================] - 0s 4ms/step - loss: 9.6746\n",
            "Epoch 23/100\n",
            "1/1 [==============================] - 0s 4ms/step - loss: 9.6695\n",
            "Epoch 24/100\n",
            "1/1 [==============================] - 0s 4ms/step - loss: 9.6643\n",
            "Epoch 25/100\n",
            "1/1 [==============================] - 0s 5ms/step - loss: 9.6593\n",
            "Epoch 26/100\n",
            "1/1 [==============================] - 0s 7ms/step - loss: 9.6541\n",
            "Epoch 27/100\n",
            "1/1 [==============================] - 0s 7ms/step - loss: 9.6490\n",
            "Epoch 28/100\n",
            "1/1 [==============================] - 0s 4ms/step - loss: 9.6438\n",
            "Epoch 29/100\n",
            "1/1 [==============================] - 0s 5ms/step - loss: 9.6387\n",
            "Epoch 30/100\n",
            "1/1 [==============================] - 0s 4ms/step - loss: 9.6336\n",
            "Epoch 31/100\n",
            "1/1 [==============================] - 0s 9ms/step - loss: 9.6285\n",
            "Epoch 32/100\n",
            "1/1 [==============================] - 0s 9ms/step - loss: 9.6234\n",
            "Epoch 33/100\n",
            "1/1 [==============================] - 0s 5ms/step - loss: 9.6183\n",
            "Epoch 34/100\n",
            "1/1 [==============================] - 0s 4ms/step - loss: 9.6131\n",
            "Epoch 35/100\n",
            "1/1 [==============================] - 0s 7ms/step - loss: 9.6080\n",
            "Epoch 36/100\n",
            "1/1 [==============================] - 0s 4ms/step - loss: 9.6030\n",
            "Epoch 37/100\n",
            "1/1 [==============================] - 0s 4ms/step - loss: 9.5978\n",
            "Epoch 38/100\n",
            "1/1 [==============================] - 0s 15ms/step - loss: 9.5928\n",
            "Epoch 39/100\n",
            "1/1 [==============================] - 0s 5ms/step - loss: 9.5876\n",
            "Epoch 40/100\n",
            "1/1 [==============================] - 0s 6ms/step - loss: 9.5826\n",
            "Epoch 41/100\n",
            "1/1 [==============================] - 0s 4ms/step - loss: 9.5775\n",
            "Epoch 42/100\n",
            "1/1 [==============================] - 0s 10ms/step - loss: 9.5724\n",
            "Epoch 43/100\n",
            "1/1 [==============================] - 0s 4ms/step - loss: 9.5673\n",
            "Epoch 44/100\n",
            "1/1 [==============================] - 0s 6ms/step - loss: 9.5622\n",
            "Epoch 45/100\n",
            "1/1 [==============================] - 0s 4ms/step - loss: 9.5572\n",
            "Epoch 46/100\n",
            "1/1 [==============================] - 0s 4ms/step - loss: 9.5521\n",
            "Epoch 47/100\n",
            "1/1 [==============================] - 0s 5ms/step - loss: 9.5470\n",
            "Epoch 48/100\n",
            "1/1 [==============================] - 0s 7ms/step - loss: 9.5420\n",
            "Epoch 49/100\n",
            "1/1 [==============================] - 0s 4ms/step - loss: 9.5369\n",
            "Epoch 50/100\n",
            "1/1 [==============================] - 0s 4ms/step - loss: 9.5318\n",
            "Epoch 51/100\n",
            "1/1 [==============================] - 0s 6ms/step - loss: 9.5268\n",
            "Epoch 52/100\n",
            "1/1 [==============================] - 0s 5ms/step - loss: 9.5217\n",
            "Epoch 53/100\n",
            "1/1 [==============================] - 0s 5ms/step - loss: 9.5167\n",
            "Epoch 54/100\n",
            "1/1 [==============================] - 0s 5ms/step - loss: 9.5116\n",
            "Epoch 55/100\n",
            "1/1 [==============================] - 0s 8ms/step - loss: 9.5066\n",
            "Epoch 56/100\n",
            "1/1 [==============================] - 0s 4ms/step - loss: 9.5015\n",
            "Epoch 57/100\n",
            "1/1 [==============================] - 0s 4ms/step - loss: 9.4965\n",
            "Epoch 58/100\n",
            "1/1 [==============================] - 0s 4ms/step - loss: 9.4914\n",
            "Epoch 59/100\n",
            "1/1 [==============================] - 0s 5ms/step - loss: 9.4864\n",
            "Epoch 60/100\n",
            "1/1 [==============================] - 0s 3ms/step - loss: 9.4814\n",
            "Epoch 61/100\n",
            "1/1 [==============================] - 0s 5ms/step - loss: 9.4763\n",
            "Epoch 62/100\n",
            "1/1 [==============================] - 0s 6ms/step - loss: 9.4713\n",
            "Epoch 63/100\n",
            "1/1 [==============================] - 0s 24ms/step - loss: 9.4663\n",
            "Epoch 64/100\n",
            "1/1 [==============================] - 0s 6ms/step - loss: 9.4612\n",
            "Epoch 65/100\n",
            "1/1 [==============================] - 0s 4ms/step - loss: 9.4562\n",
            "Epoch 66/100\n",
            "1/1 [==============================] - 0s 6ms/step - loss: 9.4512\n",
            "Epoch 67/100\n",
            "1/1 [==============================] - 0s 5ms/step - loss: 9.4462\n",
            "Epoch 68/100\n",
            "1/1 [==============================] - 0s 8ms/step - loss: 9.4412\n",
            "Epoch 69/100\n",
            "1/1 [==============================] - 0s 7ms/step - loss: 9.4362\n",
            "Epoch 70/100\n",
            "1/1 [==============================] - 0s 7ms/step - loss: 9.4312\n",
            "Epoch 71/100\n",
            "1/1 [==============================] - 0s 7ms/step - loss: 9.4261\n",
            "Epoch 72/100\n",
            "1/1 [==============================] - 0s 5ms/step - loss: 9.4211\n",
            "Epoch 73/100\n",
            "1/1 [==============================] - 0s 5ms/step - loss: 9.4161\n",
            "Epoch 74/100\n",
            "1/1 [==============================] - 0s 4ms/step - loss: 9.4111\n",
            "Epoch 75/100\n",
            "1/1 [==============================] - 0s 4ms/step - loss: 9.4061\n",
            "Epoch 76/100\n",
            "1/1 [==============================] - 0s 4ms/step - loss: 9.4012\n",
            "Epoch 77/100\n",
            "1/1 [==============================] - 0s 5ms/step - loss: 9.3962\n",
            "Epoch 78/100\n",
            "1/1 [==============================] - 0s 3ms/step - loss: 9.3912\n",
            "Epoch 79/100\n",
            "1/1 [==============================] - 0s 5ms/step - loss: 9.3862\n",
            "Epoch 80/100\n",
            "1/1 [==============================] - 0s 4ms/step - loss: 9.3812\n",
            "Epoch 81/100\n",
            "1/1 [==============================] - 0s 6ms/step - loss: 9.3762\n",
            "Epoch 82/100\n",
            "1/1 [==============================] - 0s 6ms/step - loss: 9.3712\n",
            "Epoch 83/100\n",
            "1/1 [==============================] - 0s 6ms/step - loss: 9.3663\n",
            "Epoch 84/100\n",
            "1/1 [==============================] - 0s 4ms/step - loss: 9.3613\n",
            "Epoch 85/100\n",
            "1/1 [==============================] - 0s 4ms/step - loss: 9.3564\n",
            "Epoch 86/100\n",
            "1/1 [==============================] - 0s 6ms/step - loss: 9.3514\n",
            "Epoch 87/100\n",
            "1/1 [==============================] - 0s 6ms/step - loss: 9.3464\n",
            "Epoch 88/100\n",
            "1/1 [==============================] - 0s 9ms/step - loss: 9.3415\n",
            "Epoch 89/100\n",
            "1/1 [==============================] - 0s 8ms/step - loss: 9.3366\n",
            "Epoch 90/100\n",
            "1/1 [==============================] - 0s 4ms/step - loss: 9.3316\n",
            "Epoch 91/100\n",
            "1/1 [==============================] - 0s 4ms/step - loss: 9.3266\n",
            "Epoch 92/100\n",
            "1/1 [==============================] - 0s 8ms/step - loss: 9.3217\n",
            "Epoch 93/100\n",
            "1/1 [==============================] - 0s 9ms/step - loss: 9.3167\n",
            "Epoch 94/100\n",
            "1/1 [==============================] - 0s 4ms/step - loss: 9.3118\n",
            "Epoch 95/100\n",
            "1/1 [==============================] - 0s 4ms/step - loss: 9.3068\n",
            "Epoch 96/100\n",
            "1/1 [==============================] - 0s 10ms/step - loss: 9.3019\n",
            "Epoch 97/100\n",
            "1/1 [==============================] - 0s 4ms/step - loss: 9.2970\n",
            "Epoch 98/100\n",
            "1/1 [==============================] - 0s 8ms/step - loss: 9.2920\n",
            "Epoch 99/100\n",
            "1/1 [==============================] - 0s 9ms/step - loss: 9.2871\n",
            "Epoch 100/100\n",
            "1/1 [==============================] - 0s 12ms/step - loss: 9.2822\n"
          ],
          "name": "stdout"
        }
      ]
    },
    {
      "cell_type": "code",
      "metadata": {
        "colab": {
          "base_uri": "https://localhost:8080/"
        },
        "id": "MaWufBVFunyB",
        "outputId": "7f619b03-14bf-429b-bbca-cc2585893265"
      },
      "source": [
        "y_predict = tf.model.predict(np.array([[72., 93., 90.]]))\n",
        "print(y_predict)"
      ],
      "execution_count": 7,
      "outputs": [
        {
          "output_type": "stream",
          "text": [
            "[[176.19037]]\n"
          ],
          "name": "stdout"
        }
      ]
    },
    {
      "cell_type": "code",
      "metadata": {
        "colab": {
          "base_uri": "https://localhost:8080/"
        },
        "id": "csMouIRmuo74",
        "outputId": "e6ee518d-dc29-425a-d10f-78ab2bcbf95d"
      },
      "source": [
        "y_predict = tf.model.predict(np.array([[73., 80., 75.]]))\n",
        "print(y_predict)"
      ],
      "execution_count": 8,
      "outputs": [
        {
          "output_type": "stream",
          "text": [
            "[[155.70543]]\n"
          ],
          "name": "stdout"
        }
      ]
    },
    {
      "cell_type": "code",
      "metadata": {
        "id": "7Pp8vy9xuuK9"
      },
      "source": [
        ""
      ],
      "execution_count": null,
      "outputs": []
    },
    {
      "cell_type": "code",
      "metadata": {
        "id": "YnY9hZBPu1gQ"
      },
      "source": [
        ""
      ],
      "execution_count": null,
      "outputs": []
    },
    {
      "cell_type": "code",
      "metadata": {
        "id": "uW8Mc5gAu1jI"
      },
      "source": [
        ""
      ],
      "execution_count": null,
      "outputs": []
    },
    {
      "cell_type": "code",
      "metadata": {
        "id": "sUdiyH0Mu1mG"
      },
      "source": [
        ""
      ],
      "execution_count": null,
      "outputs": []
    },
    {
      "cell_type": "markdown",
      "metadata": {
        "id": "5rP48Q0PAHgY"
      },
      "source": [
        "##03 - Multi-variable Linear Regression"
      ]
    },
    {
      "cell_type": "code",
      "metadata": {
        "id": "5pGYSAlpuJJ2"
      },
      "source": [
        ""
      ],
      "execution_count": null,
      "outputs": []
    },
    {
      "cell_type": "code",
      "metadata": {
        "id": "FIYEYFl2AMfP"
      },
      "source": [
        "import tensorflow as tf\n",
        "import numpy as np"
      ],
      "execution_count": null,
      "outputs": []
    },
    {
      "cell_type": "markdown",
      "metadata": {
        "id": "OtM0oH3GAS51"
      },
      "source": [
        "##Multi-variable linear regression"
      ]
    },
    {
      "cell_type": "code",
      "metadata": {
        "id": "IDCJ2cfZAUY2"
      },
      "source": [
        ""
      ],
      "execution_count": null,
      "outputs": []
    },
    {
      "cell_type": "code",
      "metadata": {
        "id": "O_AGY8XCAhQK"
      },
      "source": [
        ""
      ],
      "execution_count": null,
      "outputs": []
    }
  ]
}